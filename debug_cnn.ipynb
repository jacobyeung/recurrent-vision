{
 "cells": [
  {
   "cell_type": "code",
   "execution_count": 4,
   "metadata": {},
   "outputs": [],
   "source": [
    "import torch\n",
    "from basic_CNN import CNN\n",
    "from torchsummary import summary"
   ]
  },
  {
   "cell_type": "code",
   "execution_count": 8,
   "metadata": {},
   "outputs": [],
   "source": [
    "a = torch.randn(1, 1, 28, 28)\n",
    "model = CNN(2, 3, 8)"
   ]
  },
  {
   "cell_type": "code",
   "execution_count": 9,
   "metadata": {},
   "outputs": [
    {
     "data": {
      "text/plain": [
       "(tensor([[-0.0417,  0.0191,  0.0050,  0.0506,  0.0061, -0.0138,  0.0078,  0.0153,\n",
       "          -0.0122,  0.0443]], grad_fn=<AddmmBackward0>),\n",
       " tensor([[0.0000, 0.0000, 0.0016,  ..., 0.1058, 0.1044, 0.0899]],\n",
       "        grad_fn=<ViewBackward0>))"
      ]
     },
     "execution_count": 9,
     "metadata": {},
     "output_type": "execute_result"
    }
   ],
   "source": [
    "model(a)"
   ]
  },
  {
   "cell_type": "code",
   "execution_count": 10,
   "metadata": {},
   "outputs": [
    {
     "name": "stdout",
     "output_type": "stream",
     "text": [
      "----------------------------------------------------------------\n",
      "        Layer (type)               Output Shape         Param #\n",
      "================================================================\n",
      "            Conv2d-1            [-1, 8, 28, 28]             208\n",
      "              ReLU-2            [-1, 8, 28, 28]               0\n",
      "         MaxPool2d-3            [-1, 8, 14, 14]               0\n",
      "            Conv2d-4            [-1, 8, 14, 14]             584\n",
      "              ReLU-5            [-1, 8, 14, 14]               0\n",
      "            Conv2d-6            [-1, 8, 14, 14]             584\n",
      "              ReLU-7            [-1, 8, 14, 14]               0\n",
      "            Conv2d-8            [-1, 8, 14, 14]             584\n",
      "              ReLU-9            [-1, 8, 14, 14]               0\n",
      "           Conv2d-10            [-1, 8, 14, 14]             584\n",
      "             ReLU-11            [-1, 8, 14, 14]               0\n",
      "           Conv2d-12            [-1, 8, 14, 14]             584\n",
      "             ReLU-13            [-1, 8, 14, 14]               0\n",
      "           Conv2d-14            [-1, 8, 14, 14]             584\n",
      "             ReLU-15            [-1, 8, 14, 14]               0\n",
      "           Linear-16                   [-1, 10]          15,690\n",
      "================================================================\n",
      "Total params: 19,402\n",
      "Trainable params: 19,402\n",
      "Non-trainable params: 0\n",
      "----------------------------------------------------------------\n",
      "Input size (MB): 0.00\n",
      "Forward/backward pass size (MB): 0.25\n",
      "Params size (MB): 0.07\n",
      "Estimated Total Size (MB): 0.33\n",
      "----------------------------------------------------------------\n"
     ]
    }
   ],
   "source": [
    "summary(model.cuda(), (1, 28, 28))"
   ]
  },
  {
   "cell_type": "code",
   "execution_count": null,
   "metadata": {},
   "outputs": [],
   "source": []
  }
 ],
 "metadata": {
  "kernelspec": {
   "display_name": "Python 3.7.11 ('ctr': conda)",
   "language": "python",
   "name": "python3"
  },
  "language_info": {
   "codemirror_mode": {
    "name": "ipython",
    "version": 3
   },
   "file_extension": ".py",
   "mimetype": "text/x-python",
   "name": "python",
   "nbconvert_exporter": "python",
   "pygments_lexer": "ipython3",
   "version": "3.7.11"
  },
  "orig_nbformat": 4,
  "vscode": {
   "interpreter": {
    "hash": "57a83d0fd099ccc573a02649d26a6ac2c35a11b0a4d339764efab972f3751677"
   }
  }
 },
 "nbformat": 4,
 "nbformat_minor": 2
}
